{
 "cells": [
  {
   "cell_type": "code",
   "execution_count": 2,
   "id": "27ec191a",
   "metadata": {},
   "outputs": [
    {
     "name": "stdout",
     "output_type": "stream",
     "text": [
      "              precision    recall  f1-score   support\n",
      "\n",
      "           0       0.65      0.09      0.15       126\n",
      "           1       0.45      0.11      0.17       304\n",
      "           2       0.65      0.98      0.78       663\n",
      "\n",
      "    accuracy                           0.63      1093\n",
      "   macro avg       0.58      0.39      0.37      1093\n",
      "weighted avg       0.59      0.63      0.54      1093\n",
      "\n"
     ]
    }
   ],
   "source": [
    "import json\n",
    "import os\n",
    "import pandas as pd\n",
    "from sklearn.feature_extraction.text import TfidfVectorizer\n",
    "from sklearn import svm\n",
    "from sklearn.metrics import classification_report\n",
    "\n",
    "def load_data(folder):\n",
    "    data = []\n",
    "    for filename in os.listdir(folder):\n",
    "        if filename.endswith('.json'):\n",
    "            with open(os.path.join(folder, filename)) as f:\n",
    "                file_data = json.load(f)\n",
    "                for article in file_data['articles']:\n",
    "                    data.append([article['title'] + ' ' + article['content'], file_data['label_text']])\n",
    "    return pd.DataFrame(data, columns=['text', 'label'])\n",
    "\n",
    "# Load training and test data\n",
    "train_folder = pd.read_csv('../final_project/datasets/train_dataset.csv')\n",
    "test_folder = pd.read_csv('../final_project/datasets/dev_dataset.csv')  \n",
    "# df_train = load_data(train_folder)\n",
    "# df_test = load_data(test_folder)\n",
    "\n",
    "# Feature extraction\n",
    "vectorizer = TfidfVectorizer()\n",
    "X_train = vectorizer.fit_transform(train_folder['text'])\n",
    "y_train = train_folder['label']\n",
    "X_test = vectorizer.transform(test_folder['text'])\n",
    "y_test = test_folder['label']\n",
    "\n",
    "# Train model\n",
    "clf = svm.SVC()\n",
    "clf.fit(X_train, y_train)\n",
    "\n",
    "# Evaluate model\n",
    "y_pred = clf.predict(X_test)\n",
    "print(classification_report(y_test, y_pred))"
   ]
  },
  {
   "cell_type": "code",
   "execution_count": 3,
   "id": "3fb0fc37",
   "metadata": {},
   "outputs": [
    {
     "name": "stderr",
     "output_type": "stream",
     "text": [
      "[nltk_data] Downloading package punkt to\n",
      "[nltk_data]     C:\\Users\\86189\\AppData\\Roaming\\nltk_data...\n",
      "[nltk_data]   Package punkt is already up-to-date!\n",
      "[nltk_data] Downloading package wordnet to\n",
      "[nltk_data]     C:\\Users\\86189\\AppData\\Roaming\\nltk_data...\n",
      "[nltk_data]   Package wordnet is already up-to-date!\n",
      "[nltk_data] Downloading package stopwords to\n",
      "[nltk_data]     C:\\Users\\86189\\AppData\\Roaming\\nltk_data...\n",
      "[nltk_data]   Package stopwords is already up-to-date!\n"
     ]
    }
   ],
   "source": [
    "import pandas as pd\n",
    "from sklearn.feature_extraction.text import TfidfVectorizer\n",
    "from sklearn import svm\n",
    "from sklearn.metrics import classification_report\n",
    "from sklearn.pipeline import make_pipeline\n",
    "from sklearn.model_selection import GridSearchCV\n",
    "from nltk.corpus import stopwords\n",
    "from nltk.stem import WordNetLemmatizer\n",
    "from nltk.tokenize import word_tokenize\n",
    "import string\n",
    "import nltk\n",
    "\n",
    "nltk.download('punkt')\n",
    "nltk.download('wordnet')\n",
    "nltk.download('stopwords')\n",
    "\n",
    "def preprocess_text(text):\n",
    "    # 转换为小写\n",
    "    text = text.lower()\n",
    "    # 去除标点符号\n",
    "    text = text.translate(str.maketrans('', '', string.punctuation))\n",
    "    # 分词\n",
    "    words = word_tokenize(text)\n",
    "    # 去除停用词\n",
    "    words = [word for word in words if word not in stopwords.words('english')]\n",
    "    # 词形还原\n",
    "    lemmatizer = WordNetLemmatizer()\n",
    "    words = [lemmatizer.lemmatize(word) for word in words]\n",
    "    return ' '.join(words)\n",
    "\n",
    "# Load training and test data\n",
    "train_dataset = pd.read_csv('../final_project/datasets/train_dataset.csv')\n",
    "dev_dataset = pd.read_csv('../final_project/datasets/dev_dataset.csv')"
   ]
  },
  {
   "cell_type": "code",
   "execution_count": 4,
   "id": "fd7ea612",
   "metadata": {},
   "outputs": [],
   "source": [
    "# TF-IDF\n",
    "vectorizer = TfidfVectorizer(preprocessor=preprocess_text)\n",
    "\n",
    "# Class Weighted\n",
    "clf = svm.SVC(class_weight='balanced')\n",
    "\n",
    "# 创建pipeline，将向量化器和分类器组合起来\n",
    "pipeline = make_pipeline(vectorizer, clf)"
   ]
  },
  {
   "cell_type": "code",
   "execution_count": 7,
   "id": "ccd58fec",
   "metadata": {},
   "outputs": [
    {
     "name": "stdout",
     "output_type": "stream",
     "text": [
      "              precision    recall  f1-score   support\n",
      "\n",
      "           0       0.55      0.23      0.32       126\n",
      "           1       0.38      0.31      0.34       304\n",
      "           2       0.70      0.84      0.77       663\n",
      "\n",
      "    accuracy                           0.62      1093\n",
      "   macro avg       0.54      0.46      0.48      1093\n",
      "weighted avg       0.59      0.62      0.60      1093\n",
      "\n"
     ]
    }
   ],
   "source": [
    "pipeline.fit(train_dataset['text'], train_dataset['label'])\n",
    "\n",
    "predictions = pipeline.predict(dev_dataset['text'])\n",
    "\n",
    "print(classification_report(dev_dataset['label'], predictions))\n"
   ]
  },
  {
   "cell_type": "code",
   "execution_count": 6,
   "id": "9dacf337",
   "metadata": {},
   "outputs": [
    {
     "name": "stdout",
     "output_type": "stream",
     "text": [
      "(8532,)\n",
      "(8532,)\n"
     ]
    }
   ],
   "source": [
    "print(train_dataset['text'].shape)\n",
    "print(train_dataset['label'].shape)\n"
   ]
  }
 ],
 "metadata": {
  "kernelspec": {
   "display_name": "Python 3 (ipykernel)",
   "language": "python",
   "name": "python3"
  },
  "language_info": {
   "codemirror_mode": {
    "name": "ipython",
    "version": 3
   },
   "file_extension": ".py",
   "mimetype": "text/x-python",
   "name": "python",
   "nbconvert_exporter": "python",
   "pygments_lexer": "ipython3",
   "version": "3.8.13"
  },
  "noteable": {
   "last_delta_id": "ccd399c3-ab1e-4308-8477-e8f7f18f59d7",
   "last_transaction_id": "a2328ede-d343-49da-8ee5-20ed6e180f98"
  },
  "noteable-chatgpt": {
   "create_notebook": {
    "openai_conversation_id": "824d1499-67c5-553e-a239-41a2c62e0029",
    "openai_ephemeral_user_id": "95e7a903-bcaf-525c-b903-cd1ac0b8a3e2",
    "openai_subdivision1_iso_code": "GB-ENG"
   }
  },
  "nteract": {
   "version": "noteable@2.9.0"
  },
  "selected_hardware_size": "small"
 },
 "nbformat": 4,
 "nbformat_minor": 5
}
