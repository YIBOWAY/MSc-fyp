{
 "cells": [
  {
   "cell_type": "code",
   "execution_count": 2,
   "id": "a5fe8e88-11c6-4e78-b8da-84fb50acdffa",
   "metadata": {
    "ExecuteTime": {
     "end_time": "2023-06-06T12:13:52.146761+00:00",
     "start_time": "2023-06-06T12:13:47.985778+00:00"
    },
    "jupyter": {
     "outputs_hidden": false,
     "source_hidden": false
    },
    "noteable": {
     "cell_type": "code"
    }
   },
   "outputs": [
    {
     "name": "stdout",
     "output_type": "stream",
     "text": [
      "Decision Tree performance:\n",
      "              precision    recall  f1-score   support\n",
      "\n",
      "        high       0.68      0.71      0.69       663\n",
      "         low       0.33      0.31      0.32       126\n",
      "       mixed       0.36      0.35      0.35       304\n",
      "\n",
      "    accuracy                           0.56      1093\n",
      "   macro avg       0.46      0.45      0.46      1093\n",
      "weighted avg       0.55      0.56      0.56      1093\n",
      "\n",
      "\n",
      "Random Forest performance:\n",
      "              precision    recall  f1-score   support\n",
      "\n",
      "        high       0.61      1.00      0.76       663\n",
      "         low       1.00      0.01      0.02       126\n",
      "       mixed       0.73      0.03      0.05       304\n",
      "\n",
      "    accuracy                           0.61      1093\n",
      "   macro avg       0.78      0.34      0.27      1093\n",
      "weighted avg       0.69      0.61      0.48      1093\n",
      "\n"
     ]
    }
   ],
   "source": [
    "import json\n",
    "import os\n",
    "import pandas as pd\n",
    "from sklearn.feature_extraction.text import TfidfVectorizer\n",
    "from sklearn.tree import DecisionTreeClassifier\n",
    "from sklearn.ensemble import RandomForestClassifier\n",
    "from sklearn.metrics import classification_report\n",
    "\n",
    "def load_data(folder):\n",
    "    data = []\n",
    "    for filename in os.listdir(folder):\n",
    "        if filename.endswith('.json'):\n",
    "            with open(os.path.join(folder, filename)) as f:\n",
    "                file_data = json.load(f)\n",
    "                for article in file_data['articles']:\n",
    "                    data.append([article['title'] + ' ' + article['content'], file_data['label_text']])\n",
    "    return pd.DataFrame(data, columns=['text', 'label'])\n",
    "\n",
    "# Load training and test data\n",
    "train_folder = '../final_project/datasets/dataset_fake_news_task4/train_json'  \n",
    "test_folder = '../final_project/datasets/dataset_fake_news_task4/dev_json'  \n",
    "df_train = load_data(train_folder)\n",
    "df_test = load_data(test_folder)\n",
    "\n",
    "# Feature extraction\n",
    "vectorizer = TfidfVectorizer()\n",
    "X_train = vectorizer.fit_transform(df_train['text'])\n",
    "y_train = df_train['label']\n",
    "X_test = vectorizer.transform(df_test['text'])\n",
    "y_test = df_test['label']\n",
    "\n",
    "# Train Decision Tree model\n",
    "clf_tree = DecisionTreeClassifier()\n",
    "clf_tree.fit(X_train, y_train)\n",
    "\n",
    "# Evaluate Decision Tree model\n",
    "y_pred_tree = clf_tree.predict(X_test)\n",
    "print('Decision Tree performance:')\n",
    "print(classification_report(y_test, y_pred_tree))\n",
    "\n",
    "# Train Random Forest model\n",
    "clf_weighted = RandomForestClassifier(class_weight='balanced')\n",
    "clf_weighted.fit(X_train, y_train)\n",
    "\n",
    "# Evaluate Random Forest model\n",
    "y_pred_forest = clf_weighted.predict(X_test)\n",
    "print('\\nRandom Forest performance:')\n",
    "print(classification_report(y_test, y_pred_forest))"
   ]
  },
  {
   "cell_type": "code",
   "execution_count": null,
   "id": "f465676e",
   "metadata": {},
   "outputs": [],
   "source": []
  }
 ],
 "metadata": {
  "kernelspec": {
   "display_name": "Python 3 (ipykernel)",
   "language": "python",
   "name": "python3"
  },
  "language_info": {
   "codemirror_mode": {
    "name": "ipython",
    "version": 3
   },
   "file_extension": ".py",
   "mimetype": "text/x-python",
   "name": "python",
   "nbconvert_exporter": "python",
   "pygments_lexer": "ipython3",
   "version": "3.8.13"
  },
  "noteable": {
   "last_delta_id": "d8cc698b-b7f1-494f-93e5-46f525f0237d",
   "last_transaction_id": "0cbfe469-2b06-4601-80ba-3c8639c63df4"
  },
  "noteable-chatgpt": {
   "create_notebook": {
    "openai_conversation_id": "824d1499-67c5-553e-a239-41a2c62e0029",
    "openai_ephemeral_user_id": "a5f96d0b-382e-5639-97ae-16fbd5e8948f",
    "openai_subdivision1_iso_code": "GB-ENG"
   }
  },
  "nteract": {
   "version": "noteable@2.9.0"
  },
  "selected_hardware_size": "small"
 },
 "nbformat": 4,
 "nbformat_minor": 5
}
